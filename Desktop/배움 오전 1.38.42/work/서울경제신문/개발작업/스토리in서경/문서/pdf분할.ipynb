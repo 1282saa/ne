{
 "cells": [
  {
   "cell_type": "code",
   "execution_count": 22,
   "metadata": {},
   "outputs": [
    {
     "name": "stdout",
     "output_type": "stream",
     "text": [
      "Saved: ./output_pages/only_pages_1_to_5.pdf\n"
     ]
    }
   ],
   "source": [
    "import os\n",
    "from pypdf import PdfReader, PdfWriter\n",
    "\n",
    "def extract_pages(file_path, output_file, start_page, end_page):\n",
    "    reader = PdfReader(file_path)\n",
    "    writer = PdfWriter()\n",
    "\n",
    "    for i in range(start_page - 1, end_page):  # 0-based indexing\n",
    "        writer.add_page(reader.pages[i])\n",
    "\n",
    "    with open(output_file, \"wb\") as out_file:\n",
    "        writer.write(out_file)\n",
    "    print(f\"Saved: {output_file}\")\n",
    "\n",
    "file_path = r\"(첨부1) 빅카인즈 open api 사용자지침서.pdf\"\n",
    "output_file = \"./output_pages/only_pages_1_to_5.pdf\"\n",
    "\n",
    "extract_pages(file_path, output_file, start_page=36, end_page=42)\n",
    "\n"
   ]
  }
 ],
 "metadata": {
  "kernelspec": {
   "display_name": "Python 3",
   "language": "python",
   "name": "python3"
  },
  "language_info": {
   "codemirror_mode": {
    "name": "ipython",
    "version": 3
   },
   "file_extension": ".py",
   "mimetype": "text/x-python",
   "name": "python",
   "nbconvert_exporter": "python",
   "pygments_lexer": "ipython3",
   "version": "3.11.4"
  }
 },
 "nbformat": 4,
 "nbformat_minor": 2
}
